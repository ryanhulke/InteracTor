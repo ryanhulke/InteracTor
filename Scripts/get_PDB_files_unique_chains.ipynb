{
 "cells": [
  {
   "cell_type": "code",
   "execution_count": 4,
   "id": "65ebffb0-a947-43e7-b267-7939d11ef389",
   "metadata": {},
   "outputs": [],
   "source": [
    "import os\n",
    "from Bio.PDB import PDBParser\n",
    "import pandas as pd\n",
    "\n",
    "# Define the path to your PDB files and DataFrame CSV\n",
    "\n",
    "# Paths for testing\n",
    "# pdb_folder_path = '/blue/raquel.dias/laylaaschuster/protein_proj/examples2'\n",
    "# output_folder_path = '/blue/raquel.dias/laylaaschuster/protein_proj/examples2/testing'\n",
    "\n",
    "pdb_folder_path = './pdb_dataset_REDO_files'\n",
    "df_csv_path = './pdbOrig_unique_chain_molecule_names.csv'\n",
    "output_folder_path = './pdb_dataset_REDO_chain_files'\n",
    "\n",
    "# Read the DataFrame from CSV\n",
    "df = pd.read_csv(df_csv_path)"
   ]
  },
  {
   "cell_type": "code",
   "execution_count": 5,
   "id": "85d6c896-87ca-46c7-86dd-b4fbb0067c57",
   "metadata": {},
   "outputs": [],
   "source": [
    "# Create a set of tuples for allowed PDB IDs and chain IDs from the DataFrame\n",
    "allowed_chains = set(df.apply(lambda row: (row['PDB_ID'], row['Chain_ID']), axis=1))"
   ]
  },
  {
   "cell_type": "code",
   "execution_count": 6,
   "id": "9b193a3f-7b7c-4dda-af67-45082580497c",
   "metadata": {},
   "outputs": [],
   "source": [
    "import warnings\n",
    "from Bio.PDB.PDBExceptions import PDBConstructionWarning\n",
    "from Bio.PDB import PDBIO, Select\n",
    "\n",
    "warnings.simplefilter('ignore', PDBConstructionWarning)\n",
    "\n",
    "class ChainSelect(Select):\n",
    "    def __init__(self, chain_letters):\n",
    "        self.chain_letters = chain_letters\n",
    "\n",
    "    def accept_chain(self, chain):\n",
    "        return chain.id in self.chain_letters\n",
    "\n",
    "# Initialize PDB parser\n",
    "parser = PDBParser()\n",
    "\n",
    "# Loop over PDB files in the directory\n",
    "for pdb_file_name in os.listdir(pdb_folder_path):\n",
    "    if not pdb_file_name.endswith(\".pdb\"):  # Skip files that do not end with .pdb\n",
    "        continue\n",
    "        \n",
    "    pdb_file_path = os.path.join(pdb_folder_path, pdb_file_name)\n",
    "\n",
    "    if os.path.isdir(pdb_file_path):  # Skip directories\n",
    "        continue\n",
    "        \n",
    "    # Extract the 4 alphanumeric PDB ID code from the file name\n",
    "    pdb_id = os.path.splitext(pdb_file_name)[0][:4].upper()\n",
    "\n",
    "    # Parse the structure\n",
    "    try:\n",
    "        structure = parser.get_structure(pdb_id, pdb_file_path)\n",
    "    except IOError as e:\n",
    "        print(f\"Could not open PDB file: {e}\")\n",
    "        continue\n",
    "        \n",
    "    for model in structure:\n",
    "        for chain_model in model:\n",
    "            chain_id = chain_model.id\n",
    "            \n",
    "            # Check if the chain is in the allowed set\n",
    "            if (pdb_id, chain_id) in allowed_chains:\n",
    "                # Write the chain PDB file if it is allowed\n",
    "                output_filename = f\"{pdb_id}_{chain_id}.pdb\"\n",
    "                output_filepath = os.path.join(output_folder_path, output_filename)\n",
    "\n",
    "                io = PDBIO()\n",
    "                io.set_structure(structure)\n",
    "                io.save(output_filepath, ChainSelect(chain_id))\n",
    "                \n",
    "                # with open(output_filepath, 'w') as outfile:\n",
    "                #     for residue in chain_model.get_residues():\n",
    "                #         for atom in residue.get_atoms():\n",
    "                #             outfile.write(atom.get_parent().get_parent().child_list[0].child_list[0].get_parent().__str__())\n",
    "                            \n",
    "            #     print(f\"Saved: {output_filename}\")\n",
    "            # else:\n",
    "            #     print(f\"Skipping chain {chain_id} of {pdb_id} as it's not listed.\")"
   ]
  },
  {
   "cell_type": "code",
   "execution_count": null,
   "id": "6656e221-c764-4aa1-bf2f-a75b8ef673dc",
   "metadata": {},
   "outputs": [],
   "source": []
  }
 ],
 "metadata": {
  "kernelspec": {
   "display_name": "Python 3 (ipykernel)",
   "language": "python",
   "name": "python3"
  },
  "language_info": {
   "codemirror_mode": {
    "name": "ipython",
    "version": 3
   },
   "file_extension": ".py",
   "mimetype": "text/x-python",
   "name": "python",
   "nbconvert_exporter": "python",
   "pygments_lexer": "ipython3",
   "version": "3.11.8"
  }
 },
 "nbformat": 4,
 "nbformat_minor": 5
}
