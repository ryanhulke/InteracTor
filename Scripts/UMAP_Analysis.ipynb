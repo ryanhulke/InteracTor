{
 "cells": [
  {
   "cell_type": "code",
   "execution_count": null,
   "metadata": {},
   "outputs": [],
   "source": [
    "# Import necessary packages\n",
    "import pandas as pd\n",
    "import umap\n",
    "import matplotlib.pyplot as plt\n",
    "import seaborn as sns"
   ]
  },
  {
   "cell_type": "code",
   "execution_count": null,
   "metadata": {},
   "outputs": [],
   "source": [
    "# 1. Load the data\n",
    "data = pd.read_csv('1_Reults.20887.interaction_terms_go_family_topfam.tsv')\n",
    "\n",
    "# 2. Prepare the data\n",
    "# Remove the first column if it is an unnecessary identifier\n",
    "data_values = data.iloc[:, 1:-1]  # Assuming the last column is the label\n",
    "\n",
    "# Standardize the data\n",
    "data_values_standardized = (data_values - data_values.mean()) / data_values.std()\n",
    "\n",
    "# Handle NaN values by replacing them with the mean of the column\n",
    "data_values_standardized = data_values_standardized.fillna(0)\n",
    "\n",
    "# 3. Execute UMAP\n",
    "umap_model = umap.UMAP(n_neighbors=15, min_dist=0.1, metric='euclidean', random_state=42)\n",
    "umap_result = umap_model.fit_transform(data_values_standardized)\n",
    "\n",
    "# 4. Create a DataFrame with UMAP results\n",
    "umap_df = pd.DataFrame(umap_result, columns=['UMAP1', 'UMAP2'])\n",
    "umap_df['Label'] = data.iloc[:, -1]  # Assuming the last column is the label\n",
    "\n",
    "# 5. Define specific colors for each label\n",
    "color_map = {\n",
    "    \"Short-chain dehydrogenases/reductases (SDR) family\": \"purple\",\n",
    "    \"Cytochrome P450 family\": \"lightgreen\",\n",
    "    \"Enoyl-CoA hydratase/isomerase family\": \"orange\",\n",
    "    \"Bacterial solute-binding protein 2 family\": \"darkblue\",\n",
    "    \"Class-I aminoacyl-tRNA synthetase family\": \"red\",\n",
    "    \"Glycosyl hydrolase 5 (cellulase A) family\": \"pink\",\n",
    "    \"Peptidase S1 family\": \"lightblue\",\n",
    "    \"FPP/GGPP synthase family\": \"yellow\"\n",
    "}\n",
    "\n",
    "#color_map = {\n",
    "#    \"DNA/nucleotide binding [GO:0003677, GO:0000166]\": \"lightblue\",\n",
    "#    \"metal ion binding [GO:0046872]\": \"orange\",\n",
    "#    \"carbohydrate binding [GO:0030246]\": \"lightgreen\",\n",
    "#}\n",
    "# Map the colors to the DataFrame\n",
    "umap_df['Color'] = umap_df['Label'].map(color_map)"
   ]
  },
  {
   "cell_type": "code",
   "execution_count": null,
   "metadata": {},
   "outputs": [],
   "source": [
    "# 6. Visualize with matplotlib and seaborn\n",
    "plt.figure(figsize=(12, 8))\n",
    "sns.scatterplot(x='UMAP1', y='UMAP2', hue='Label', data=umap_df, palette=color_map, s=100, alpha=0.8)\n",
    "plt.title('UMAP Projection of Protein Families')\n",
    "plt.xlabel('UMAP Dimension 1')\n",
    "plt.ylabel('UMAP Dimension 2')\n",
    "plt.legend(loc='best', title='Family')\n",
    "plt.show()"
   ]
  }
 ],
 "metadata": {
  "language_info": {
   "name": "python"
  }
 },
 "nbformat": 4,
 "nbformat_minor": 2
}
