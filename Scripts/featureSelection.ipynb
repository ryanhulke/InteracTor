{
 "cells": [
  {
   "cell_type": "code",
   "execution_count": null,
   "metadata": {},
   "outputs": [],
   "source": [
    "import numpy as np\n",
    "import pandas as pd\n",
    "from sklearn import preprocessing\n",
    "from sklearn.decomposition import PCA\n",
    "from sklearn.preprocessing import StandardScaler\n",
    "from sklearn.datasets import make_regression\n",
    "from sklearn.feature_selection import mutual_info_classif"
   ]
  },
  {
   "cell_type": "code",
   "execution_count": null,
   "metadata": {},
   "outputs": [],
   "source": [
    "# Load the dataset containing gene ontology features\n",
    "# The file \"geneOntology.csv\" is expected to be tab-separated\n",
    "feature_df = pd.read_csv(\"1_Reults.20887.interaction_terms_go_family_topfam.tsv\", sep=\"\\t\")\n",
    "\n",
    "# Extract feature matrix (X) and target variable (y)\n",
    "# X: All columns except the first and last two (assuming they are metadata)\n",
    "# y: The \"protein_family\" column, which serves as the target labels\n",
    "X = feature_df.iloc[:, 1:-2]\n",
    "y = list(feature_df[\"protein_family\"])\n",
    "\n",
    "# Load a list of features to drop from an external file (\"drop.txt\")\n",
    "drop = []\n",
    "with open('drop.txt', 'r') as f:\n",
    "    for d in f:\n",
    "        drop.append(d.strip())  # Strip whitespace and newline characters"
   ]
  },
  {
   "cell_type": "code",
   "execution_count": null,
   "metadata": {},
   "outputs": [],
   "source": [
    "# Compute mutual information between features and target variable\n",
    "res = mutual_info_classif(X, y)\n",
    "\n",
    "# Store features with mutual information scores above 0.2\n",
    "dat = []\n",
    "for i in res:\n",
    "    if float(i) > 0.2:\n",
    "        dat.append(round(i, 3))\n",
    "\n",
    "# Retrieve feature names\n",
    "feat = list(X.columns)\n",
    "\n",
    "# Print each feature along with its corresponding mutual information score\n",
    "for i in range(len(res)):\n",
    "    print(f\"{feat[i]},{res[i]}\")"
   ]
  }
 ],
 "metadata": {
  "kernelspec": {
   "display_name": "Python 3",
   "language": "python",
   "name": "python3"
  },
  "language_info": {
   "codemirror_mode": {
    "name": "ipython",
    "version": 3
   },
   "file_extension": ".py",
   "mimetype": "text/x-python",
   "name": "python",
   "nbconvert_exporter": "python",
   "pygments_lexer": "ipython3",
   "version": "3.10.10"
  }
 },
 "nbformat": 4,
 "nbformat_minor": 2
}
