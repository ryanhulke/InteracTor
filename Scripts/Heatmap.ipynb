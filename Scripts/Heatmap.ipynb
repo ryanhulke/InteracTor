{
 "cells": [
  {
   "cell_type": "code",
   "execution_count": null,
   "metadata": {},
   "outputs": [],
   "source": [
    "# Importar pacotes necessários\n",
    "import pandas as pd\n",
    "import seaborn as sns\n",
    "import matplotlib.pyplot as plt\n",
    "from matplotlib import colors\n",
    "from scipy.stats import zscore\n",
    "import numpy as np"
   ]
  },
  {
   "cell_type": "code",
   "execution_count": null,
   "metadata": {},
   "outputs": [],
   "source": [
    "# 1. Ler os dados\n",
    "data = pd.read_csv('1_Reults.20887.interaction_terms_go_family_topfam.tsv')\n",
    "\n",
    "# 2. Preparar os dados\n",
    "# Definir a última coluna como rótulos de linha e remover a coluna usada como índice\n",
    "data.set_index(data.iloc[:, -1], inplace=True)  # Usar a última coluna como rótulo das linhas\n",
    "data = data.iloc[:, 1:-1]  # Remover a última coluna (que agora é o índice)\n",
    "#data = data.iloc[,1:]  # Remover a última coluna (que agora é o índice)\n",
    "\n",
    "# 3. Calcular o z-score para padronizar os dados\n",
    "data_zscore = data.apply(zscore, axis=0)\n",
    "\n",
    "# 4. Normalizar a escala do z-score para -5 a 5\n",
    "data_zscore_normalized = np.clip(data_zscore, -5, 5)\n",
    "\n",
    "# 5. Definir o mapa de cores padrão usando a paleta 'coolwarm' do seaborn\n",
    "cmap = sns.color_palette(\"coolwarm\", as_cmap=True)\n",
    "\n",
    "# 6. Definir as cores para as famílias\n",
    "row_colors = {\n",
    "    'Short-chain dehydrogenases/reductases (SDR) family': 'purple',\n",
    "    'Cytochrome P450 family': 'lightgreen',\n",
    "    'Enoyl-CoA hydratase/isomerase family': 'orange',\n",
    "    'Bacterial solute-binding protein 2 family': 'darkblue',\n",
    "    'Class-I aminoacyl-tRNA synthetase family': 'red',\n",
    "    'Glycosyl hydrolase 5 (cellulase A) family': 'pink',\n",
    "    'Peptidase S1 family': 'lightblue',\n",
    "    'FPP/GGPP synthase family': 'yellow'\n",
    "}"
   ]
  },
  {
   "cell_type": "code",
   "execution_count": null,
   "metadata": {},
   "outputs": [],
   "source": [
    "# Mapear as cores de acordo com as labels\n",
    "row_labels = data.index\n",
    "row_colors_list = [row_colors.get(label, 'grey') for label in row_labels]\n",
    "row_colors_df = pd.DataFrame({'color': row_colors_list}, index=row_labels)\n",
    "\n",
    "# 7. Criar o Heatmap com agrupamento e cores de linha\n",
    "plt.figure(figsize=(16, 14))\n",
    "\n",
    "# Criar o clustermap\n",
    "g = sns.clustermap(data_zscore_normalized, cmap=cmap, \n",
    "                   xticklabels=True, yticklabels=False,  # Remover labels das linhas\n",
    "                   col_cluster=True, row_cluster=True,\n",
    "                   row_colors=row_colors_df['color'],  # Adicionar cores para linhas\n",
    "                   cbar_kws={'label': 'Z-score', 'shrink': 0.5},\n",
    "                   figsize=(16, 14))  # Ajuste do tamanho do gráfico\n",
    "\n",
    "# Adicionar legenda do z-score à direita\n",
    "cbar = g.cax.colorbar\n",
    "cbar.set_label('Z-score')\n",
    "cbar.ax.tick_params(labelsize=10)  # Ajustar tamanho das labels do z-score\n",
    "\n",
    "# Adicionar legenda das cores das famílias à esquerda\n",
    "handles = [plt.Line2D([0], [0], color=color, lw=4) for color in row_colors.values()]\n",
    "labels = row_colors.keys()\n",
    "plt.legend(handles, labels, bbox_to_anchor=(-0.2, 0.5), loc='center left', title='Protein Families')\n",
    "\n",
    "plt.title('Heatmap of Protein Families (Z-score Normalized)')\n",
    "\n",
    "# Salvar a figura como SVG\n",
    "plt.savefig('heatmap_protein_families.svg', format='svg')\n",
    "\n",
    "plt.show()"
   ]
  }
 ],
 "metadata": {
  "kernelspec": {
   "display_name": "Python 3",
   "language": "python",
   "name": "python3"
  },
  "language_info": {
   "name": "python",
   "version": "3.10.10"
  }
 },
 "nbformat": 4,
 "nbformat_minor": 2
}
