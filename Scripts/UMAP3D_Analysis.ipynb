{
 "cells": [
  {
   "cell_type": "code",
   "execution_count": null,
   "metadata": {},
   "outputs": [],
   "source": [
    "# Import necessary packages\n",
    "import pandas as pd\n",
    "import umap\n",
    "import matplotlib.pyplot as plt\n",
    "from mpl_toolkits.mplot3d import Axes3D\n",
    "import seaborn as sns"
   ]
  },
  {
   "cell_type": "code",
   "execution_count": null,
   "metadata": {},
   "outputs": [],
   "source": [
    "# 1. Load the data\n",
    "data = pd.read_csv('protein_family.csv')\n",
    "\n",
    "# 2. Prepare the data\n",
    "# Remove the first column if it is an unnecessary identifier\n",
    "data_values = data.iloc[:, 1:-1]  # Assuming the last column is the label\n",
    "\n",
    "# Standardize the data\n",
    "data_values_standardized = (data_values - data_values.mean()) / data_values.std()\n",
    "\n",
    "# Handle NaN values by replacing them with 0\n",
    "data_values_standardized = data_values_standardized.fillna(0)\n",
    "\n",
    "# 3. Execute UMAP with 3 components\n",
    "umap_model = umap.UMAP(n_neighbors=15, min_dist=0.1, metric='euclidean', random_state=42, n_components=3)\n",
    "umap_result = umap_model.fit_transform(data_values_standardized)\n",
    "\n",
    "# 4. Create a DataFrame with UMAP results\n",
    "umap_df = pd.DataFrame(umap_result, columns=['UMAP1', 'UMAP2', 'UMAP3'])\n",
    "umap_df['Label'] = data.iloc[:, -1]  # Assuming the last column is the label\n",
    "\n",
    "# 5. Define specific colors for each label\n",
    "color_map = {\n",
    "    \"Short-chain dehydrogenases/reductases (SDR) family\": \"purple\",\n",
    "    \"Cytochrome P450 family\": \"lightgreen\",\n",
    "    \"Enoyl-CoA hydratase/isomerase family\": \"orange\",\n",
    "    \"Bacterial solute-binding protein 2 family\": \"darkblue\",\n",
    "    \"Class-I aminoacyl-tRNA synthetase family\": \"red\",\n",
    "    \"Glycosyl hydrolase 5 (cellulase A) family\": \"pink\",\n",
    "    \"Peptidase S1 family\": \"lightblue\",\n",
    "    \"FPP/GGPP synthase family\": \"yellow\"\n",
    "}\n",
    "\n",
    "# Map the colors to the DataFrame\n",
    "umap_df['Color'] = umap_df['Label'].map(color_map)"
   ]
  },
  {
   "cell_type": "code",
   "execution_count": null,
   "metadata": {},
   "outputs": [],
   "source": [
    "# 6. Visualize with matplotlib in 3D\n",
    "fig = plt.figure(figsize=(12, 8))\n",
    "ax = fig.add_subplot(111, projection='3d')\n",
    "\n",
    "# Plotting the points in 3D\n",
    "for label, color in color_map.items():\n",
    "    subset = umap_df[umap_df['Label'] == label]\n",
    "    ax.scatter(subset['UMAP1'], subset['UMAP2'], subset['UMAP3'], c=color, label=label, s=100, alpha=0.8)\n",
    "\n",
    "ax.set_title('3D UMAP Projection of Protein Families')\n",
    "ax.set_xlabel('UMAP Dimension 1')\n",
    "ax.set_ylabel('UMAP Dimension 2')\n",
    "ax.set_zlabel('UMAP Dimension 3')\n",
    "ax.legend(loc='best', title='Family')\n",
    "plt.show()"
   ]
  }
 ],
 "metadata": {
  "language_info": {
   "name": "python"
  }
 },
 "nbformat": 4,
 "nbformat_minor": 2
}
